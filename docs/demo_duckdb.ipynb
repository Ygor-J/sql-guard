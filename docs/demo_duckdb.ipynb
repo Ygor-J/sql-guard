{
 "cells": [
  {
   "cell_type": "code",
   "execution_count": null,
   "metadata": {},
   "outputs": [
    {
     "ename": "ModuleNotFoundError",
     "evalue": "No module named 'sqlguard'",
     "output_type": "error",
     "traceback": [
      "\u001b[0;31m---------------------------------------------------------------------------\u001b[0m",
      "\u001b[0;31mModuleNotFoundError\u001b[0m                       Traceback (most recent call last)",
      "Input \u001b[0;32mIn [4]\u001b[0m, in \u001b[0;36m<cell line: 6>\u001b[0;34m()\u001b[0m\n\u001b[1;32m      3\u001b[0m \u001b[38;5;28;01mimport\u001b[39;00m\u001b[38;5;250m \u001b[39m\u001b[38;5;21;01mos\u001b[39;00m\n\u001b[1;32m      4\u001b[0m \u001b[38;5;28;01mimport\u001b[39;00m\u001b[38;5;250m \u001b[39m\u001b[38;5;21;01mpandera\u001b[39;00m\u001b[38;5;250m \u001b[39m\u001b[38;5;28;01mas\u001b[39;00m\u001b[38;5;250m \u001b[39m\u001b[38;5;21;01mpa\u001b[39;00m\n\u001b[0;32m----> 6\u001b[0m \u001b[38;5;28;01mfrom\u001b[39;00m\u001b[38;5;250m \u001b[39m\u001b[38;5;21;01msqlguard\u001b[39;00m\u001b[38;5;21;01m.\u001b[39;00m\u001b[38;5;21;01mvalidator\u001b[39;00m\u001b[38;5;21;01m.\u001b[39;00m\u001b[38;5;21;01mSQLValidator\u001b[39;00m\u001b[38;5;250m \u001b[39m\u001b[38;5;28;01mimport\u001b[39;00m SQLValidator\n\u001b[1;32m      7\u001b[0m \u001b[38;5;28;01mfrom\u001b[39;00m\u001b[38;5;250m \u001b[39m\u001b[38;5;21;01msqlguard\u001b[39;00m\u001b[38;5;21;01m.\u001b[39;00m\u001b[38;5;21;01mtranslators\u001b[39;00m\u001b[38;5;250m \u001b[39m\u001b[38;5;28;01mimport\u001b[39;00m SchemaParsers\n\u001b[1;32m      9\u001b[0m \u001b[38;5;28;01mimport\u001b[39;00m\u001b[38;5;250m \u001b[39m\u001b[38;5;21;01mpprint\u001b[39;00m\n",
      "\u001b[0;31mModuleNotFoundError\u001b[0m: No module named 'sqlguard'"
     ]
    }
   ],
   "source": [
    "from google.cloud import bigquery\n",
    "from dotenv import load_dotenv\n",
    "import os\n",
    "import pandera as pa\n",
    "\n",
    "from sqlguard.validator.SQLValidator import SQLValidator\n",
    "from sqlgguard.translators import SchemaParsers\n",
    "\n",
    "import pprint\n",
    "import json\n",
    "\n",
    "import pandas as pd\n",
    "import duckdb\n",
    "\n",
    "load_dotenv()"
   ]
  },
  {
   "cell_type": "markdown",
   "metadata": {},
   "source": [
    "# Getting Data From BigQuery\n",
    "\n",
    "It's a table thar contains information about students and their courses and grades. Imagine those students are from a Computer Science Major or from a Electrical Engineering Major.  \n",
    "The ideia is to have each row as the grade of a student.  \n",
    "```\n",
    "name: Name of the student  \n",
    "age: Age of the student  \n",
    "major: Major of the student (for example, Computer Science, Electrical Engineering etc.)  \n",
    "semester: Semester of university, for example 1S/2024 indicating the first semester of 2024  \n",
    "course: Course, for example, Algorithms, Data Structures, Calculus I, Calculus II etc.  \n",
    "grade: Grade for the course. for example: 0, 5, 10  \n",
    "failed: Boolean to indicate if the student failed the course based on grade (>=5)  \n",
    "```"
   ]
  },
  {
   "cell_type": "code",
   "execution_count": 9,
   "metadata": {},
   "outputs": [],
   "source": [
    "TABLE_PATH = \"`central-rampart-451901-k9.test.student`\""
   ]
  },
  {
   "cell_type": "code",
   "execution_count": 10,
   "metadata": {},
   "outputs": [
    {
     "name": "stderr",
     "output_type": "stream",
     "text": [
      "/home/ygorj/Code/sql-guard/env/lib/python3.10/site-packages/google/cloud/bigquery/table.py:1900: UserWarning: BigQuery Storage module not found, fetch data with the REST endpoint instead.\n",
      "  warnings.warn(\n"
     ]
    },
    {
     "data": {
      "text/html": [
       "<div>\n",
       "<style scoped>\n",
       "    .dataframe tbody tr th:only-of-type {\n",
       "        vertical-align: middle;\n",
       "    }\n",
       "\n",
       "    .dataframe tbody tr th {\n",
       "        vertical-align: top;\n",
       "    }\n",
       "\n",
       "    .dataframe thead th {\n",
       "        text-align: right;\n",
       "    }\n",
       "</style>\n",
       "<table border=\"1\" class=\"dataframe\">\n",
       "  <thead>\n",
       "    <tr style=\"text-align: right;\">\n",
       "      <th></th>\n",
       "      <th>name</th>\n",
       "      <th>age</th>\n",
       "      <th>major</th>\n",
       "      <th>semester</th>\n",
       "      <th>course</th>\n",
       "      <th>grade</th>\n",
       "      <th>failed</th>\n",
       "    </tr>\n",
       "  </thead>\n",
       "  <tbody>\n",
       "    <tr>\n",
       "      <th>0</th>\n",
       "      <td>Daniel Carter</td>\n",
       "      <td>19</td>\n",
       "      <td>Computer Science</td>\n",
       "      <td>1S/2024</td>\n",
       "      <td>Algorithms</td>\n",
       "      <td>8.5</td>\n",
       "      <td>False</td>\n",
       "    </tr>\n",
       "    <tr>\n",
       "      <th>1</th>\n",
       "      <td>Theo Hill</td>\n",
       "      <td>19</td>\n",
       "      <td>Computer Science</td>\n",
       "      <td>1S/2024</td>\n",
       "      <td>Algorithms</td>\n",
       "      <td>9.0</td>\n",
       "      <td>False</td>\n",
       "    </tr>\n",
       "    <tr>\n",
       "      <th>2</th>\n",
       "      <td>Jessica Hall</td>\n",
       "      <td>19</td>\n",
       "      <td>Computer Science</td>\n",
       "      <td>1S/2024</td>\n",
       "      <td>Algorithms</td>\n",
       "      <td>8.0</td>\n",
       "      <td>False</td>\n",
       "    </tr>\n",
       "    <tr>\n",
       "      <th>3</th>\n",
       "      <td>Liam Carter</td>\n",
       "      <td>19</td>\n",
       "      <td>Computer Science</td>\n",
       "      <td>1S/2024</td>\n",
       "      <td>Algorithms</td>\n",
       "      <td>8.5</td>\n",
       "      <td>False</td>\n",
       "    </tr>\n",
       "    <tr>\n",
       "      <th>4</th>\n",
       "      <td>Zackary Hill</td>\n",
       "      <td>19</td>\n",
       "      <td>Computer Science</td>\n",
       "      <td>1S/2024</td>\n",
       "      <td>Algorithms</td>\n",
       "      <td>7.0</td>\n",
       "      <td>False</td>\n",
       "    </tr>\n",
       "    <tr>\n",
       "      <th>...</th>\n",
       "      <td>...</td>\n",
       "      <td>...</td>\n",
       "      <td>...</td>\n",
       "      <td>...</td>\n",
       "      <td>...</td>\n",
       "      <td>...</td>\n",
       "      <td>...</td>\n",
       "    </tr>\n",
       "    <tr>\n",
       "      <th>98</th>\n",
       "      <td>Nora Turner</td>\n",
       "      <td>21</td>\n",
       "      <td>Computer Science</td>\n",
       "      <td>1S/2024</td>\n",
       "      <td>Data Structures</td>\n",
       "      <td>6.0</td>\n",
       "      <td>True</td>\n",
       "    </tr>\n",
       "    <tr>\n",
       "      <th>99</th>\n",
       "      <td>Riley Turner</td>\n",
       "      <td>21</td>\n",
       "      <td>Computer Science</td>\n",
       "      <td>1S/2024</td>\n",
       "      <td>Data Structures</td>\n",
       "      <td>5.0</td>\n",
       "      <td>True</td>\n",
       "    </tr>\n",
       "    <tr>\n",
       "      <th>100</th>\n",
       "      <td>Leo Adams</td>\n",
       "      <td>21</td>\n",
       "      <td>Computer Science</td>\n",
       "      <td>1S/2024</td>\n",
       "      <td>Data Structures</td>\n",
       "      <td>5.5</td>\n",
       "      <td>True</td>\n",
       "    </tr>\n",
       "    <tr>\n",
       "      <th>101</th>\n",
       "      <td>Fiona Lopez</td>\n",
       "      <td>21</td>\n",
       "      <td>Computer Science</td>\n",
       "      <td>1S/2024</td>\n",
       "      <td>Data Structures</td>\n",
       "      <td>5.0</td>\n",
       "      <td>True</td>\n",
       "    </tr>\n",
       "    <tr>\n",
       "      <th>102</th>\n",
       "      <td>Zane Adams</td>\n",
       "      <td>21</td>\n",
       "      <td>Computer Science</td>\n",
       "      <td>1S/2024</td>\n",
       "      <td>Data Structures</td>\n",
       "      <td>6.0</td>\n",
       "      <td>True</td>\n",
       "    </tr>\n",
       "  </tbody>\n",
       "</table>\n",
       "<p>103 rows × 7 columns</p>\n",
       "</div>"
      ],
      "text/plain": [
       "              name  age             major semester           course  grade  \\\n",
       "0    Daniel Carter   19  Computer Science  1S/2024       Algorithms    8.5   \n",
       "1        Theo Hill   19  Computer Science  1S/2024       Algorithms    9.0   \n",
       "2     Jessica Hall   19  Computer Science  1S/2024       Algorithms    8.0   \n",
       "3      Liam Carter   19  Computer Science  1S/2024       Algorithms    8.5   \n",
       "4     Zackary Hill   19  Computer Science  1S/2024       Algorithms    7.0   \n",
       "..             ...  ...               ...      ...              ...    ...   \n",
       "98     Nora Turner   21  Computer Science  1S/2024  Data Structures    6.0   \n",
       "99    Riley Turner   21  Computer Science  1S/2024  Data Structures    5.0   \n",
       "100      Leo Adams   21  Computer Science  1S/2024  Data Structures    5.5   \n",
       "101    Fiona Lopez   21  Computer Science  1S/2024  Data Structures    5.0   \n",
       "102     Zane Adams   21  Computer Science  1S/2024  Data Structures    6.0   \n",
       "\n",
       "     failed  \n",
       "0     False  \n",
       "1     False  \n",
       "2     False  \n",
       "3     False  \n",
       "4     False  \n",
       "..      ...  \n",
       "98     True  \n",
       "99     True  \n",
       "100    True  \n",
       "101    True  \n",
       "102    True  \n",
       "\n",
       "[103 rows x 7 columns]"
      ]
     },
     "execution_count": 10,
     "metadata": {},
     "output_type": "execute_result"
    }
   ],
   "source": [
    "client = bigquery.Client.from_service_account_json(json_credentials_path=os.getenv(\"GOOGLE_APPLICATION_CREDENTIALS\"))\n",
    "\n",
    "# Perform a query.\n",
    "QUERY = f'''\n",
    "\n",
    "    SELECT * FROM {TABLE_PATH}\n",
    "\n",
    "'''\n",
    "\n",
    "query_job = client.query(QUERY)  # API request\n",
    "query_result = query_job.result()  # Waits for query to finish\n",
    "\n",
    "df = query_result.to_dataframe()\n",
    "\n",
    "df"
   ]
  },
  {
   "cell_type": "markdown",
   "metadata": {},
   "source": [
    "# Validating"
   ]
  },
  {
   "cell_type": "markdown",
   "metadata": {},
   "source": [
    "## Setting up pa.DataFrameSchema"
   ]
  },
  {
   "cell_type": "code",
   "execution_count": 11,
   "metadata": {},
   "outputs": [
    {
     "name": "stdout",
     "output_type": "stream",
     "text": [
      "<Schema DataFrameSchema(\n",
      "    columns={\n",
      "        'name': <Schema Column(name=name, type=DataType(str))>\n",
      "        'age': <Schema Column(name=age, type=DataType(int64))>\n",
      "        'major': <Schema Column(name=major, type=DataType(str))>\n",
      "        'semester': <Schema Column(name=semester, type=DataType(str))>\n",
      "        'course': <Schema Column(name=course, type=DataType(str))>\n",
      "        'grade': <Schema Column(name=grade, type=DataType(float64))>\n",
      "        'failed': <Schema Column(name=failed, type=DataType(bool))>\n",
      "    },\n",
      "    checks=[],\n",
      "    parsers=[],\n",
      "    coerce=False,\n",
      "    dtype=None,\n",
      "    index=None,\n",
      "    strict=False,\n",
      "    name=None,\n",
      "    ordered=False,\n",
      "    unique_column_names=False,\n",
      "    metadata=None, \n",
      "    add_missing_columns=False\n",
      ")>\n"
     ]
    }
   ],
   "source": [
    "# Variables that we are going to use\n",
    "\n",
    "pandera_schema = pa.DataFrameSchema({\n",
    "\n",
    "    \"name\": pa.Column(str, checks=pa.Check.str_matches(r\"^[A-Z].*\")), # Starting with capital letter\n",
    "    \"age\": pa.Column(int, checks=pa.Check.in_range(min_value=15, max_value=150)), # Students must be between 15 and 150 years old\n",
    "    \"major\": pa.Column(str, checks=pa.Check.isin([\"Computer Science\", \"Electrical Engineering\"])), # Major can only be Computer Science or Electrical Engineering\n",
    "    \"semester\": pa.Column(str, checks=pa.Check.equal_to(\"1S/2024\")), # Only grade from 1st semester of 2024\n",
    "    \"course\": pa.Column(str, checks=pa.Check.isin([\"Algorithms\", \"Data Structures\", \"Circuit Analysis\", \"Calculus I\", \"Calculus II\"])), # Only Alogirthms and Data Structures courses\n",
    "    \"grade\": pa.Column(float, checks=pa.Check.between(min_value=0, max_value=10)), # Grade can only be between 0 and 10\n",
    "    \"failed\": pa.Column(bool) # Boolean value\n",
    "})\n",
    "\n",
    "print(pandera_schema)"
   ]
  },
  {
   "cell_type": "code",
   "execution_count": 12,
   "metadata": {},
   "outputs": [
    {
     "name": "stdout",
     "output_type": "stream",
     "text": [
      "<Schema DataFrameSchema(\n",
      "    columns={\n",
      "        'name': <Schema Column(name=name, type=DataType(str))>\n",
      "        'age': <Schema Column(name=age, type=DataType(int64))>\n",
      "        'major': <Schema Column(name=major, type=DataType(str))>\n",
      "        'semester': <Schema Column(name=semester, type=DataType(str))>\n",
      "        'course': <Schema Column(name=course, type=DataType(str))>\n",
      "        'grade': <Schema Column(name=grade, type=DataType(float64))>\n",
      "        'failed': <Schema Column(name=failed, type=DataType(bool))>\n",
      "    },\n",
      "    checks=[],\n",
      "    parsers=[],\n",
      "    coerce=False,\n",
      "    dtype=None,\n",
      "    index=None,\n",
      "    strict=False,\n",
      "    name=None,\n",
      "    ordered=False,\n",
      "    unique_column_names=False,\n",
      "    metadata=None, \n",
      "    add_missing_columns=False\n",
      ")>\n"
     ]
    }
   ],
   "source": [
    "pandera_schema = pa.DataFrameSchema({\n",
    "\n",
    "    \"name\": pa.Column(str, checks=pa.Check.str_matches(r\"^[A-Z].*\")), # Starting with capital letter\n",
    "    \"age\": pa.Column(int, checks=pa.Check.in_range(min_value=15, max_value=21)), # Students must be between 15 and 150 years old\n",
    "    \"major\": pa.Column(str, checks=pa.Check.isin([\"Computer Science\"])), # Major can only be Computer Science\n",
    "    \"semester\": pa.Column(str, checks=pa.Check.equal_to(\"1S/2024\")), # Only grade from 1st semester of 2024\n",
    "    \"course\": pa.Column(str, checks=pa.Check.isin([\"Algorithms\", \"Data Structures\", \"Calculus I\"])), # Only Alogirthms and Data Structures courses\n",
    "    \"grade\": pa.Column(float, checks=pa.Check.between(min_value=0, max_value=10)), # Grade can only be between 0 and 10\n",
    "    \"failed\": pa.Column(bool) # Boolean value\n",
    "})\n",
    "\n",
    "print(pandera_schema)"
   ]
  },
  {
   "cell_type": "markdown",
   "metadata": {},
   "source": [
    "## Validating with SQL Guard"
   ]
  },
  {
   "cell_type": "code",
   "execution_count": 13,
   "metadata": {},
   "outputs": [
    {
     "name": "stdout",
     "output_type": "stream",
     "text": [
      "{'name': [ValidationCheck(check_name='is_string',\n",
      "                          params=None,\n",
      "                          error_msg=None,\n",
      "                          ignore_nulls=False),\n",
      "          ValidationCheck(check_name='regex_contains',\n",
      "                          params={'value': '^[A-Z].*'},\n",
      "                          error_msg=None,\n",
      "                          ignore_nulls=False)],\n",
      " 'age': [ValidationCheck(check_name='is_integer',\n",
      "                         params=None,\n",
      "                         error_msg=None,\n",
      "                         ignore_nulls=False),\n",
      "         ValidationCheck(check_name='between',\n",
      "                         params={'min': 15, 'max': 21},\n",
      "                         error_msg=None,\n",
      "                         ignore_nulls=False)],\n",
      " 'major': [ValidationCheck(check_name='is_string',\n",
      "                           params=None,\n",
      "                           error_msg=None,\n",
      "                           ignore_nulls=False),\n",
      "           ValidationCheck(check_name='is_in',\n",
      "                           params={'value': ['Computer Science']},\n",
      "                           error_msg=None,\n",
      "                           ignore_nulls=False)],\n",
      " 'semester': [ValidationCheck(check_name='is_string',\n",
      "                              params=None,\n",
      "                              error_msg=None,\n",
      "                              ignore_nulls=False),\n",
      "              ValidationCheck(check_name='equal',\n",
      "                              params={'value': '1S/2024'},\n",
      "                              error_msg=None,\n",
      "                              ignore_nulls=False)],\n",
      " 'course': [ValidationCheck(check_name='is_string',\n",
      "                            params=None,\n",
      "                            error_msg=None,\n",
      "                            ignore_nulls=False),\n",
      "            ValidationCheck(check_name='is_in',\n",
      "                            params={'value': ['Algorithms',\n",
      "                                              'Data Structures',\n",
      "                                              'Calculus I']},\n",
      "                            error_msg=None,\n",
      "                            ignore_nulls=False)],\n",
      " 'grade': [ValidationCheck(check_name='is_float',\n",
      "                           params=None,\n",
      "                           error_msg=None,\n",
      "                           ignore_nulls=False),\n",
      "           ValidationCheck(check_name='between',\n",
      "                           params={'min': 0, 'max': 10},\n",
      "                           error_msg=None,\n",
      "                           ignore_nulls=False)],\n",
      " 'failed': [ValidationCheck(check_name='is_boolean',\n",
      "                            params=None,\n",
      "                            error_msg=None,\n",
      "                            ignore_nulls=False)]}\n"
     ]
    }
   ],
   "source": [
    "panderaParser = SchemaParsers.SchemaParser.get_parser(\"pandera\")\n",
    "data_rules = panderaParser.parse(pandera_schema)\n",
    "pprint.pp(data_rules)"
   ]
  },
  {
   "cell_type": "code",
   "execution_count": 14,
   "metadata": {},
   "outputs": [
    {
     "name": "stdout",
     "output_type": "stream",
     "text": [
      "SELECT * FROM df\n",
      "            WHERE ((TRY_CAST(name AS VARCHAR) IS NOT NULL) AND (REGEXP_MATCHES(name, E'^[A-Z].*'))) AND ((TRY_CAST(age AS BIGINT) IS NOT NULL) AND (age BETWEEN 15 AND 21)) AND ((TRY_CAST(major AS VARCHAR) IS NOT NULL) AND (major IN ('Computer Science'))) AND ((TRY_CAST(semester AS VARCHAR) IS NOT NULL) AND (semester = '1S/2024')) AND ((TRY_CAST(course AS VARCHAR) IS NOT NULL) AND (course IN ('Algorithms', 'Data Structures', 'Calculus I'))) AND ((TRY_CAST(grade AS DOUBLE) IS NOT NULL) AND (grade BETWEEN 0 AND 10)) AND ((TRY_CAST(failed AS BOOLEAN) IS NOT NULL))\n"
     ]
    }
   ],
   "source": [
    "sql_schema = SQLValidator(data_rules, sql_dialect=\"DuckDBSQL\")\n",
    "validation_query = sql_schema.generate_sql(from_source=\"df\")\n",
    "\n",
    "print(validation_query)\n"
   ]
  },
  {
   "cell_type": "code",
   "execution_count": 15,
   "metadata": {},
   "outputs": [
    {
     "data": {
      "text/plain": [
       "┌───────────────┬───────┬──────────────────┬──────────┬─────────────────┬────────┬─────────┐\n",
       "│     name      │  age  │      major       │ semester │     course      │ grade  │ failed  │\n",
       "│    varchar    │ int64 │     varchar      │ varchar  │     varchar     │ double │ boolean │\n",
       "├───────────────┼───────┼──────────────────┼──────────┼─────────────────┼────────┼─────────┤\n",
       "│ Daniel Carter │    19 │ Computer Science │ 1S/2024  │ Algorithms      │    8.5 │ false   │\n",
       "│ Theo Hill     │    19 │ Computer Science │ 1S/2024  │ Algorithms      │    9.0 │ false   │\n",
       "│ Jessica Hall  │    19 │ Computer Science │ 1S/2024  │ Algorithms      │    8.0 │ false   │\n",
       "│ Liam Carter   │    19 │ Computer Science │ 1S/2024  │ Algorithms      │    8.5 │ false   │\n",
       "│ Zackary Hill  │    19 │ Computer Science │ 1S/2024  │ Algorithms      │    7.0 │ false   │\n",
       "│ Zoe Carter    │    19 │ Computer Science │ 1S/2024  │ Algorithms      │    9.0 │ false   │\n",
       "│ John Doe      │    20 │ Computer Science │ 1S/2024  │ Algorithms      │    8.5 │ false   │\n",
       "│ Rachel Carter │    19 │ Computer Science │ 1S/2024  │ Algorithms      │    9.0 │ false   │\n",
       "│ Rory Harris   │    19 │ Computer Science │ 1S/2024  │ Algorithms      │    8.0 │ false   │\n",
       "│ Felix Harris  │    19 │ Computer Science │ 1S/2024  │ Algorithms      │    9.5 │ false   │\n",
       "│      ·        │     · │        ·         │    ·     │     ·           │     ·  │  ·      │\n",
       "│      ·        │     · │        ·         │    ·     │     ·           │     ·  │  ·      │\n",
       "│      ·        │     · │        ·         │    ·     │     ·           │     ·  │  ·      │\n",
       "│ Finn Turner   │    21 │ Computer Science │ 1S/2024  │ Data Structures │    6.0 │ true    │\n",
       "│ Xena Lopez    │    21 │ Computer Science │ 1S/2024  │ Data Structures │    6.5 │ true    │\n",
       "│ Diana Evans   │    21 │ Computer Science │ 1S/2024  │ Data Structures │    6.5 │ true    │\n",
       "│ Laura Allen   │    21 │ Computer Science │ 1S/2024  │ Data Structures │    5.0 │ true    │\n",
       "│ Tyler Lopez   │    21 │ Computer Science │ 1S/2024  │ Data Structures │    6.5 │ true    │\n",
       "│ Nora Turner   │    21 │ Computer Science │ 1S/2024  │ Data Structures │    6.0 │ true    │\n",
       "│ Riley Turner  │    21 │ Computer Science │ 1S/2024  │ Data Structures │    5.0 │ true    │\n",
       "│ Leo Adams     │    21 │ Computer Science │ 1S/2024  │ Data Structures │    5.5 │ true    │\n",
       "│ Fiona Lopez   │    21 │ Computer Science │ 1S/2024  │ Data Structures │    5.0 │ true    │\n",
       "│ Zane Adams    │    21 │ Computer Science │ 1S/2024  │ Data Structures │    6.0 │ true    │\n",
       "├───────────────┴───────┴──────────────────┴──────────┴─────────────────┴────────┴─────────┤\n",
       "│ 52 rows (20 shown)                                                             7 columns │\n",
       "└──────────────────────────────────────────────────────────────────────────────────────────┘"
      ]
     },
     "execution_count": 15,
     "metadata": {},
     "output_type": "execute_result"
    }
   ],
   "source": [
    "duckdb.sql(validation_query)"
   ]
  },
  {
   "cell_type": "code",
   "execution_count": 16,
   "metadata": {},
   "outputs": [
    {
     "data": {
      "text/plain": [
       "┌───────────────┬───────┬────────────────────────┬──────────┬──────────────────┬────────┬─────────┐\n",
       "│     name      │  age  │         major          │ semester │      course      │ grade  │ failed  │\n",
       "│    varchar    │ int64 │        varchar         │ varchar  │     varchar      │ double │ boolean │\n",
       "├───────────────┼───────┼────────────────────────┼──────────┼──────────────────┼────────┼─────────┤\n",
       "│ Maya Baker    │    22 │ Electrical Engineering │ 1S/2024  │ Calculus I       │    8.5 │ false   │\n",
       "│ Caleb White   │    22 │ Electrical Engineering │ 1S/2024  │ Calculus I       │    7.5 │ false   │\n",
       "│ Grace White   │    22 │ Electrical Engineering │ 1S/2024  │ Calculus I       │    9.5 │ false   │\n",
       "│ Yara Gonzalez │    22 │ Electrical Engineering │ 1S/2024  │ Calculus I       │    8.0 │ false   │\n",
       "│ Olivia Baker  │    22 │ Electrical Engineering │ 1S/2024  │ Calculus I       │    7.5 │ false   │\n",
       "│ Uma Gonzalez  │    22 │ Electrical Engineering │ 1S/2024  │ Calculus I       │    9.5 │ false   │\n",
       "│ Owen White    │    22 │ Electrical Engineering │ 1S/2024  │ Calculus II      │    9.0 │ false   │\n",
       "│ Sophia White  │    22 │ Electrical Engineering │ 1S/2024  │ Calculus II      │    8.0 │ false   │\n",
       "│ Ulysses White │    22 │ Electrical Engineering │ 1S/2024  │ Calculus II      │    7.5 │ false   │\n",
       "│ Michael King  │    22 │ Electrical Engineering │ 1S/2024  │ Calculus II      │    9.5 │ false   │\n",
       "│     ·         │     · │           ·            │    ·     │      ·           │     ·  │  ·      │\n",
       "│     ·         │     · │           ·            │    ·     │      ·           │     ·  │  ·      │\n",
       "│     ·         │     · │           ·            │    ·     │      ·           │     ·  │  ·      │\n",
       "│ Uma Green     │    20 │ Electrical Engineering │ 1S/2024  │ Circuit Analysis │    5.0 │ true    │\n",
       "│ Samuel Perez  │    20 │ Electrical Engineering │ 1S/2024  │ Circuit Analysis │    6.0 │ true    │\n",
       "│ Ivy Green     │    20 │ Electrical Engineering │ 1S/2024  │ Circuit Analysis │    6.5 │ true    │\n",
       "│ Uma Martinez  │    20 │ Electrical Engineering │ 1S/2024  │ Circuit Analysis │    6.5 │ true    │\n",
       "│ Amelia Green  │    20 │ Electrical Engineering │ 1S/2024  │ Circuit Analysis │    4.0 │ true    │\n",
       "│ Olive Perez   │    20 │ Electrical Engineering │ 1S/2024  │ Circuit Analysis │    6.0 │ true    │\n",
       "│ Mia Green     │    20 │ Electrical Engineering │ 1S/2024  │ Circuit Analysis │    4.5 │ true    │\n",
       "│ George Clark  │    20 │ Electrical Engineering │ 1S/2024  │ Circuit Analysis │    3.5 │ true    │\n",
       "│ Aaron Perez   │    20 │ Electrical Engineering │ 1S/2024  │ Circuit Analysis │    5.5 │ true    │\n",
       "│ Gina Martinez │    20 │ Electrical Engineering │ 1S/2024  │ Circuit Analysis │    5.0 │ true    │\n",
       "├───────────────┴───────┴────────────────────────┴──────────┴──────────────────┴────────┴─────────┤\n",
       "│ 51 rows (20 shown)                                                                    7 columns │\n",
       "└─────────────────────────────────────────────────────────────────────────────────────────────────┘"
      ]
     },
     "execution_count": 16,
     "metadata": {},
     "output_type": "execute_result"
    }
   ],
   "source": [
    "validation_query = sql_schema.generate_sql(from_source=\"df\", wrong_values=True)\n",
    "\n",
    "duckdb.sql(validation_query)"
   ]
  },
  {
   "cell_type": "code",
   "execution_count": 19,
   "metadata": {},
   "outputs": [
    {
     "data": {
      "text/plain": [
       "┌─────────────┬────────────┬────────────────────────────────────────────────────────────┬───────────┬──────────────┬────────────────┐\n",
       "│ column_name │ check_name │                           params                           │ error_msg │ ignore_nulls │ n_wrong_values │\n",
       "│   varchar   │  varchar   │                          varchar                           │   int32   │   boolean    │     int64      │\n",
       "├─────────────┼────────────┼────────────────────────────────────────────────────────────┼───────────┼──────────────┼────────────────┤\n",
       "│ major       │ is_in      │ {\"value\": [\"Computer Science\"]}                            │      NULL │ false        │             51 │\n",
       "│ course      │ is_in      │ {\"value\": [\"Algorithms\", \"Data Structures\", \"Calculus I\"]} │      NULL │ false        │             38 │\n",
       "│ age         │ between    │ {\"min\": 15, \"max\": 21}                                     │      NULL │ false        │             26 │\n",
       "└─────────────┴────────────┴────────────────────────────────────────────────────────────┴───────────┴──────────────┴────────────────┘"
      ]
     },
     "execution_count": 19,
     "metadata": {},
     "output_type": "execute_result"
    }
   ],
   "source": [
    "validation_query = sql_schema.generate_sql_report(from_source=\"df\", n_wrong_values=True)\n",
    "\n",
    "duckdb.sql(validation_query)"
   ]
  },
  {
   "cell_type": "code",
   "execution_count": null,
   "metadata": {},
   "outputs": [],
   "source": []
  }
 ],
 "metadata": {
  "kernelspec": {
   "display_name": "Python 3",
   "language": "python",
   "name": "python3"
  },
  "language_info": {
   "codemirror_mode": {
    "name": "ipython",
    "version": 3
   },
   "file_extension": ".py",
   "mimetype": "text/x-python",
   "name": "python",
   "nbconvert_exporter": "python",
   "pygments_lexer": "ipython3",
   "version": "3.8.10"
  }
 },
 "nbformat": 4,
 "nbformat_minor": 2
}
